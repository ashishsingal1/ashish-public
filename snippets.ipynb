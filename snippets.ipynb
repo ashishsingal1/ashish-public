{
 "cells": [
  {
   "cell_type": "markdown",
   "metadata": {},
   "source": [
    "# Code Snippets\n",
    "Code snippets that may be helpful to quickly copy paste into notebooks. I know, some are obvious!"
   ]
  },
  {
   "cell_type": "code",
   "execution_count": null,
   "metadata": {
    "collapsed": false
   },
   "outputs": [],
   "source": [
    "# base dir\n",
    "import sys\n",
    "sys.path.append('H:/My Documents/Python/afrbot-v2')\n",
    "\n",
    "# auto detect parent dir\n",
    "import os,sys,inspect\n",
    "currentdir = os.path.dirname(os.path.abspath(inspect.getfile(inspect.currentframe())))\n",
    "parentdir = os.path.dirname(currentdir)\n",
    "sys.path.insert(0,parentdir) \n",
    "\n",
    "# auto detect parent dir two lines\n",
    "import os, sys, inspect\n",
    "sys.path.insert(0,os.path.dirname(os.path.dirname(os.path.abspath(inspect.getfile(inspect.currentframe()))))) \n",
    "\n",
    "# reload library\n",
    "import importlib\n",
    "importlib.reload(afrml)\n",
    "\n",
    "# single line if\n",
    "'Yes' if fruit == 'Apple' else 'No'\n",
    "\n",
    "# loop through list as reference\n",
    "for i in range(len(ls)):\n",
    "    ls[i]['key'] = 'hello'\n",
    "\n",
    "import pickle\n",
    "df = pickle.load(open('df.pkl', 'rb')) # load pickle\n",
    "pickle.dump(df, open('df.pkl','wb')) # write pickle\n",
    "\n",
    "# string to csv\n",
    "from io import StringIO\n",
    "pd.read_csv(StringIO(csv))\n",
    "\n",
    "# use .get instead!\n",
    "def element_or_none(dt, k, e=np.nan):\n",
    "    try: return dt[k]\n",
    "    except (KeyError, IndexError): return e\n",
    "    \n",
    "def create_ip(): return '.'.join([str(randint(0,255)) for i in range(4)])\n",
    "def create_dt(): return datetime.datetime(2017, 1, randint(1,10), randint(0,23), randint(0,59))"
   ]
  },
  {
   "cell_type": "markdown",
   "metadata": {},
   "source": [
    "# Pandas"
   ]
  },
  {
   "cell_type": "code",
   "execution_count": null,
   "metadata": {
    "collapsed": true
   },
   "outputs": [],
   "source": [
    "import pandas as pd\n",
    "\n",
    "df_cusips = df_cusips.merge(df_cohorts, on='cpn') # merge\n",
    "df.rename(columns={'rpb': 'cohort_rpb'},inplace=True) # rename\n",
    "df['next_earnings_date'] = df.apply(lambda x: func(x['ticker'], x['date']), axis=1) # apply\n",
    "df.replace([np.inf, -np.inf], np.nan, inplace=True) # convert inf to nan\n",
    "df['date'] = pd.to_datetime(df['date']) # to datetime\n",
    "df.rename(columns=lambda x: x.strip()) # remove whitespace from column names\n",
    "\n",
    "df = pd.DataFrame(np.random.randn(6,4),columns=list('ABCD')) # fake data"
   ]
  },
  {
   "cell_type": "markdown",
   "metadata": {
    "collapsed": true
   },
   "source": [
    "# Postgres"
   ]
  },
  {
   "cell_type": "code",
   "execution_count": null,
   "metadata": {
    "collapsed": true
   },
   "outputs": [],
   "source": [
    "import sqlalchemy\n",
    "engine = sqlalchemy.create_engine('postgresql://postgres:@localhost:5432/postgres')\n",
    "import pandas.io.sql as psql\n",
    "query = 'select date, \"TICKER\", \"PRC\" from crsp where \"TICKER\" = \\'AAPL\\''\n",
    "result = psql.read_sql(query, con=engine)\n",
    "%timeit engine.execute('select \"adjustedprice\" from crsp where \"TICKER\" = \\'AAPL\\' and \"date\" > 20100124')\n",
    "engine.execute(query).scalar() # scalar value"
   ]
  },
  {
   "cell_type": "code",
   "execution_count": null,
   "metadata": {
    "collapsed": true
   },
   "outputs": [],
   "source": [
    "engine.execute(sql)"
   ]
  },
  {
   "cell_type": "markdown",
   "metadata": {},
   "source": [
    "# Jupyter"
   ]
  },
  {
   "cell_type": "code",
   "execution_count": 2,
   "metadata": {
    "ExecuteTime": {
     "end_time": "2016-12-30T11:07:06.330954",
     "start_time": "2016-12-30T11:07:06.327953"
    },
    "collapsed": false
   },
   "outputs": [],
   "source": [
    "from IPython.core.display import display, HTML\n",
    "# display(HTML('<h1>Hello, world!</h1>'))"
   ]
  },
  {
   "cell_type": "markdown",
   "metadata": {},
   "source": [
    "# Redshift"
   ]
  },
  {
   "cell_type": "code",
   "execution_count": null,
   "metadata": {
    "collapsed": true
   },
   "outputs": [],
   "source": []
  }
 ],
 "metadata": {
  "kernelspec": {
   "display_name": "Python 3",
   "language": "python",
   "name": "python3"
  },
  "language_info": {
   "codemirror_mode": {
    "name": "ipython",
    "version": 3
   },
   "file_extension": ".py",
   "mimetype": "text/x-python",
   "name": "python",
   "nbconvert_exporter": "python",
   "pygments_lexer": "ipython3",
   "version": "3.5.2"
  }
 },
 "nbformat": 4,
 "nbformat_minor": 0
}
