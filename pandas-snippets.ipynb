{
 "cells": [
  {
   "cell_type": "markdown",
   "metadata": {},
   "source": [
    "# Pandas Snippets\n",
    "This Notebook is a collection of pandas snippets and tips and tricks that I've learned over the years of heavy use. Hope you find it helpful!"
   ]
  },
  {
   "cell_type": "code",
   "execution_count": 2,
   "metadata": {
    "ExecuteTime": {
     "end_time": "2017-01-05T10:05:26.077444",
     "start_time": "2017-01-05T10:05:24.711401"
    },
    "collapsed": true
   },
   "outputs": [],
   "source": [
    "import pandas as pd\n",
    "import numpy as np"
   ]
  },
  {
   "cell_type": "code",
   "execution_count": 3,
   "metadata": {
    "ExecuteTime": {
     "end_time": "2017-01-05T10:05:26.108446",
     "start_time": "2017-01-05T10:05:26.078444"
    },
    "collapsed": false
   },
   "outputs": [
    {
     "data": {
      "text/html": [
       "<div>\n",
       "<table border=\"1\" class=\"dataframe\">\n",
       "  <thead>\n",
       "    <tr style=\"text-align: right;\">\n",
       "      <th></th>\n",
       "      <th>A</th>\n",
       "      <th>B</th>\n",
       "      <th>C</th>\n",
       "      <th>D</th>\n",
       "    </tr>\n",
       "  </thead>\n",
       "  <tbody>\n",
       "    <tr>\n",
       "      <th>0</th>\n",
       "      <td>-0.168442</td>\n",
       "      <td>-0.112051</td>\n",
       "      <td>-1.612653</td>\n",
       "      <td>0.211259</td>\n",
       "    </tr>\n",
       "    <tr>\n",
       "      <th>1</th>\n",
       "      <td>-0.500286</td>\n",
       "      <td>0.793669</td>\n",
       "      <td>-1.056163</td>\n",
       "      <td>-1.435844</td>\n",
       "    </tr>\n",
       "    <tr>\n",
       "      <th>2</th>\n",
       "      <td>-0.347455</td>\n",
       "      <td>-0.093979</td>\n",
       "      <td>-0.807137</td>\n",
       "      <td>0.773167</td>\n",
       "    </tr>\n",
       "    <tr>\n",
       "      <th>3</th>\n",
       "      <td>-0.701675</td>\n",
       "      <td>1.930133</td>\n",
       "      <td>0.249761</td>\n",
       "      <td>0.401427</td>\n",
       "    </tr>\n",
       "    <tr>\n",
       "      <th>4</th>\n",
       "      <td>-1.059418</td>\n",
       "      <td>-1.761782</td>\n",
       "      <td>0.065577</td>\n",
       "      <td>-0.294420</td>\n",
       "    </tr>\n",
       "    <tr>\n",
       "      <th>5</th>\n",
       "      <td>0.298216</td>\n",
       "      <td>-1.719261</td>\n",
       "      <td>0.796989</td>\n",
       "      <td>1.303812</td>\n",
       "    </tr>\n",
       "  </tbody>\n",
       "</table>\n",
       "</div>"
      ],
      "text/plain": [
       "          A         B         C         D\n",
       "0 -0.168442 -0.112051 -1.612653  0.211259\n",
       "1 -0.500286  0.793669 -1.056163 -1.435844\n",
       "2 -0.347455 -0.093979 -0.807137  0.773167\n",
       "3 -0.701675  1.930133  0.249761  0.401427\n",
       "4 -1.059418 -1.761782  0.065577 -0.294420\n",
       "5  0.298216 -1.719261  0.796989  1.303812"
      ]
     },
     "execution_count": 3,
     "metadata": {},
     "output_type": "execute_result"
    }
   ],
   "source": [
    "# create a dummy DataFrame\n",
    "df = pd.DataFrame(np.random.randn(6,4),columns=list('ABCD')) # fake data\n",
    "df"
   ]
  },
  {
   "cell_type": "code",
   "execution_count": 4,
   "metadata": {
    "ExecuteTime": {
     "end_time": "2017-01-05T10:05:26.113446",
     "start_time": "2017-01-05T10:05:26.110446"
    },
    "collapsed": true
   },
   "outputs": [],
   "source": [
    "# sometimes, when certain data is corrupted or missing, we end up\n",
    "# with inf. convert those to nans.\n",
    "df.replace([np.inf, -np.inf], np.nan, inplace=True) # convert inf to nan"
   ]
  },
  {
   "cell_type": "code",
   "execution_count": 5,
   "metadata": {
    "ExecuteTime": {
     "end_time": "2017-01-05T10:05:26.152448",
     "start_time": "2017-01-05T10:05:26.115446"
    },
    "collapsed": false
   },
   "outputs": [
    {
     "data": {
      "text/html": [
       "<div>\n",
       "<table border=\"1\" class=\"dataframe\">\n",
       "  <thead>\n",
       "    <tr style=\"text-align: right;\">\n",
       "      <th></th>\n",
       "      <th>A</th>\n",
       "      <th>B</th>\n",
       "      <th>C</th>\n",
       "      <th>D</th>\n",
       "    </tr>\n",
       "  </thead>\n",
       "  <tbody>\n",
       "    <tr>\n",
       "      <th>0</th>\n",
       "      <td>-0.168442</td>\n",
       "      <td>-0.112051</td>\n",
       "      <td>-1.612653</td>\n",
       "      <td>0.211259</td>\n",
       "    </tr>\n",
       "    <tr>\n",
       "      <th>1</th>\n",
       "      <td>-0.500286</td>\n",
       "      <td>0.793669</td>\n",
       "      <td>-1.056163</td>\n",
       "      <td>-1.435844</td>\n",
       "    </tr>\n",
       "    <tr>\n",
       "      <th>2</th>\n",
       "      <td>-0.347455</td>\n",
       "      <td>-0.093979</td>\n",
       "      <td>-0.807137</td>\n",
       "      <td>0.773167</td>\n",
       "    </tr>\n",
       "    <tr>\n",
       "      <th>3</th>\n",
       "      <td>-0.701675</td>\n",
       "      <td>1.930133</td>\n",
       "      <td>0.249761</td>\n",
       "      <td>0.401427</td>\n",
       "    </tr>\n",
       "    <tr>\n",
       "      <th>4</th>\n",
       "      <td>-1.059418</td>\n",
       "      <td>-1.761782</td>\n",
       "      <td>0.065577</td>\n",
       "      <td>-0.294420</td>\n",
       "    </tr>\n",
       "    <tr>\n",
       "      <th>5</th>\n",
       "      <td>0.298216</td>\n",
       "      <td>-1.719261</td>\n",
       "      <td>0.796989</td>\n",
       "      <td>1.303812</td>\n",
       "    </tr>\n",
       "  </tbody>\n",
       "</table>\n",
       "</div>"
      ],
      "text/plain": [
       "          A         B         C         D\n",
       "0 -0.168442 -0.112051 -1.612653  0.211259\n",
       "1 -0.500286  0.793669 -1.056163 -1.435844\n",
       "2 -0.347455 -0.093979 -0.807137  0.773167\n",
       "3 -0.701675  1.930133  0.249761  0.401427\n",
       "4 -1.059418 -1.761782  0.065577 -0.294420\n",
       "5  0.298216 -1.719261  0.796989  1.303812"
      ]
     },
     "execution_count": 5,
     "metadata": {},
     "output_type": "execute_result"
    }
   ],
   "source": [
    "df.rename(columns=lambda x: x.strip()) # remove whitespace from column names"
   ]
  },
  {
   "cell_type": "code",
   "execution_count": 9,
   "metadata": {
    "ExecuteTime": {
     "end_time": "2017-01-05T10:06:22.962148",
     "start_time": "2017-01-05T10:06:22.949147"
    },
    "collapsed": false
   },
   "outputs": [
    {
     "data": {
      "text/html": [
       "<div>\n",
       "<table border=\"1\" class=\"dataframe\">\n",
       "  <thead>\n",
       "    <tr style=\"text-align: right;\">\n",
       "      <th></th>\n",
       "      <th>A</th>\n",
       "      <th>B</th>\n",
       "      <th>C</th>\n",
       "      <th>D</th>\n",
       "      <th>A_lag1</th>\n",
       "    </tr>\n",
       "  </thead>\n",
       "  <tbody>\n",
       "    <tr>\n",
       "      <th>0</th>\n",
       "      <td>-0.168442</td>\n",
       "      <td>-0.112051</td>\n",
       "      <td>-1.612653</td>\n",
       "      <td>0.211259</td>\n",
       "      <td>NaN</td>\n",
       "    </tr>\n",
       "    <tr>\n",
       "      <th>1</th>\n",
       "      <td>-0.500286</td>\n",
       "      <td>0.793669</td>\n",
       "      <td>-1.056163</td>\n",
       "      <td>-1.435844</td>\n",
       "      <td>-0.168442</td>\n",
       "    </tr>\n",
       "    <tr>\n",
       "      <th>2</th>\n",
       "      <td>-0.347455</td>\n",
       "      <td>-0.093979</td>\n",
       "      <td>-0.807137</td>\n",
       "      <td>0.773167</td>\n",
       "      <td>-0.500286</td>\n",
       "    </tr>\n",
       "    <tr>\n",
       "      <th>3</th>\n",
       "      <td>-0.701675</td>\n",
       "      <td>1.930133</td>\n",
       "      <td>0.249761</td>\n",
       "      <td>0.401427</td>\n",
       "      <td>-0.347455</td>\n",
       "    </tr>\n",
       "    <tr>\n",
       "      <th>4</th>\n",
       "      <td>-1.059418</td>\n",
       "      <td>-1.761782</td>\n",
       "      <td>0.065577</td>\n",
       "      <td>-0.294420</td>\n",
       "      <td>-0.701675</td>\n",
       "    </tr>\n",
       "    <tr>\n",
       "      <th>5</th>\n",
       "      <td>0.298216</td>\n",
       "      <td>-1.719261</td>\n",
       "      <td>0.796989</td>\n",
       "      <td>1.303812</td>\n",
       "      <td>-1.059418</td>\n",
       "    </tr>\n",
       "  </tbody>\n",
       "</table>\n",
       "</div>"
      ],
      "text/plain": [
       "          A         B         C         D    A_lag1\n",
       "0 -0.168442 -0.112051 -1.612653  0.211259       NaN\n",
       "1 -0.500286  0.793669 -1.056163 -1.435844 -0.168442\n",
       "2 -0.347455 -0.093979 -0.807137  0.773167 -0.500286\n",
       "3 -0.701675  1.930133  0.249761  0.401427 -0.347455\n",
       "4 -1.059418 -1.761782  0.065577 -0.294420 -0.701675\n",
       "5  0.298216 -1.719261  0.796989  1.303812 -1.059418"
      ]
     },
     "execution_count": 9,
     "metadata": {},
     "output_type": "execute_result"
    }
   ],
   "source": [
    "df['A_lag1'] = df['A'].shift() # create lag\n",
    "df"
   ]
  },
  {
   "cell_type": "code",
   "execution_count": null,
   "metadata": {
    "ExecuteTime": {
     "end_time": "2017-01-05T10:05:51.425525",
     "start_time": "2017-01-05T10:05:51.413524"
    },
    "collapsed": false
   },
   "outputs": [],
   "source": [
    "# generate dataframe\n",
    "np.random.seed(0)\n",
    "df = pd.DataFrame({'date': [datetime.datetime(2010,1,1)+datetime.timedelta(days=i*15) \n",
    "                            for i in range(0,100)],\n",
    "                   'invested': np.random.random(100)*1e6,\n",
    "                   'return': np.random.random(100),\n",
    "                   'side': np.random.choice([-1, 1], 100)})\n",
    "idx = pd.date_range(start='01-01-2010', end='01-01-2016') # date_range\n",
    "\n",
    "np.random.seed(0)\n",
    "N = 10\n",
    "df = pd.DataFrame(\n",
    "    {'X':np.random.uniform(-5,5,N),\n",
    "     'Y':np.random.uniform(-5,5,N),\n",
    "     'Z':np.random.uniform(-5,5,N),\n",
    "    })\n",
    "df"
   ]
  },
  {
   "cell_type": "code",
   "execution_count": null,
   "metadata": {
    "collapsed": true
   },
   "outputs": [],
   "source": [
    "df['year'] = df['date'].dt.year # extract year"
   ]
  }
 ],
 "metadata": {
  "kernelspec": {
   "display_name": "Python 3",
   "language": "python",
   "name": "python3"
  },
  "language_info": {
   "codemirror_mode": {
    "name": "ipython",
    "version": 3
   },
   "file_extension": ".py",
   "mimetype": "text/x-python",
   "name": "python",
   "nbconvert_exporter": "python",
   "pygments_lexer": "ipython3",
   "version": "3.5.2"
  }
 },
 "nbformat": 4,
 "nbformat_minor": 0
}
