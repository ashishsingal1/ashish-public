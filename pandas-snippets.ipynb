{
 "cells": [
  {
   "cell_type": "markdown",
   "metadata": {},
   "source": [
    "# Pandas Snippets\n",
    "This Notebook is a collection of pandas snippets and tips and tricks that I've learned over the years of heavy use. Hope you find it helpful!"
   ]
  },
  {
   "cell_type": "code",
   "execution_count": 3,
   "metadata": {
    "ExecuteTime": {
     "end_time": "2017-01-04T07:40:13.640604",
     "start_time": "2017-01-04T07:40:13.637603"
    },
    "collapsed": true
   },
   "outputs": [],
   "source": [
    "import pandas as pd\n",
    "import numpy as np"
   ]
  },
  {
   "cell_type": "code",
   "execution_count": 5,
   "metadata": {
    "ExecuteTime": {
     "end_time": "2017-01-04T07:40:25.802980",
     "start_time": "2017-01-04T07:40:25.798980"
    },
    "collapsed": false
   },
   "outputs": [
    {
     "data": {
      "text/html": [
       "<div>\n",
       "<table border=\"1\" class=\"dataframe\">\n",
       "  <thead>\n",
       "    <tr style=\"text-align: right;\">\n",
       "      <th></th>\n",
       "      <th>A</th>\n",
       "      <th>B</th>\n",
       "      <th>C</th>\n",
       "      <th>D</th>\n",
       "    </tr>\n",
       "  </thead>\n",
       "  <tbody>\n",
       "    <tr>\n",
       "      <th>0</th>\n",
       "      <td>-0.225501</td>\n",
       "      <td>0.765238</td>\n",
       "      <td>0.588413</td>\n",
       "      <td>-0.447966</td>\n",
       "    </tr>\n",
       "    <tr>\n",
       "      <th>1</th>\n",
       "      <td>0.858046</td>\n",
       "      <td>0.425367</td>\n",
       "      <td>1.011932</td>\n",
       "      <td>-0.566592</td>\n",
       "    </tr>\n",
       "    <tr>\n",
       "      <th>2</th>\n",
       "      <td>1.582430</td>\n",
       "      <td>1.668254</td>\n",
       "      <td>-0.051374</td>\n",
       "      <td>-0.518929</td>\n",
       "    </tr>\n",
       "    <tr>\n",
       "      <th>3</th>\n",
       "      <td>-0.006172</td>\n",
       "      <td>1.478851</td>\n",
       "      <td>-0.756709</td>\n",
       "      <td>0.624001</td>\n",
       "    </tr>\n",
       "    <tr>\n",
       "      <th>4</th>\n",
       "      <td>0.922828</td>\n",
       "      <td>-1.282439</td>\n",
       "      <td>0.005274</td>\n",
       "      <td>-0.707089</td>\n",
       "    </tr>\n",
       "    <tr>\n",
       "      <th>5</th>\n",
       "      <td>0.005342</td>\n",
       "      <td>0.114874</td>\n",
       "      <td>1.854388</td>\n",
       "      <td>-0.096729</td>\n",
       "    </tr>\n",
       "  </tbody>\n",
       "</table>\n",
       "</div>"
      ],
      "text/plain": [
       "          A         B         C         D\n",
       "0 -0.225501  0.765238  0.588413 -0.447966\n",
       "1  0.858046  0.425367  1.011932 -0.566592\n",
       "2  1.582430  1.668254 -0.051374 -0.518929\n",
       "3 -0.006172  1.478851 -0.756709  0.624001\n",
       "4  0.922828 -1.282439  0.005274 -0.707089\n",
       "5  0.005342  0.114874  1.854388 -0.096729"
      ]
     },
     "execution_count": 5,
     "metadata": {},
     "output_type": "execute_result"
    }
   ],
   "source": [
    "# create a dummy DataFrame\n",
    "df = pd.DataFrame(np.random.randn(6,4),columns=list('ABCD')) # fake data\n",
    "df"
   ]
  },
  {
   "cell_type": "code",
   "execution_count": null,
   "metadata": {
    "collapsed": true
   },
   "outputs": [],
   "source": [
    "# often times, \n",
    "df.replace([np.inf, -np.inf], np.nan, inplace=True) # convert inf to nan"
   ]
  }
 ],
 "metadata": {
  "kernelspec": {
   "display_name": "Python 3",
   "language": "python",
   "name": "python3"
  },
  "language_info": {
   "codemirror_mode": {
    "name": "ipython",
    "version": 3
   },
   "file_extension": ".py",
   "mimetype": "text/x-python",
   "name": "python",
   "nbconvert_exporter": "python",
   "pygments_lexer": "ipython3",
   "version": "3.5.2"
  }
 },
 "nbformat": 4,
 "nbformat_minor": 0
}
