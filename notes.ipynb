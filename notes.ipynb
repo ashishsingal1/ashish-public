{
 "cells": [
  {
   "cell_type": "markdown",
   "metadata": {},
   "source": [
    "### GBR\n",
    "Starts off with a very weak learner, perhaps the mean. Then each additional learner (usu trees) improve by fitting the errors. It uses GD to find the best next learner.\n",
    "\n",
    "GD - first order iterative optimization. Find the min and keep moving in that direction.\n",
    "\n",
    "Params are loss (lsq, lad, etc), learning rate (for descent), num learners to use, max depth of trees"
   ]
  },
  {
   "cell_type": "markdown",
   "metadata": {},
   "source": [
    "### SGD\n",
    "\n",
    "\n",
    "\n",
    "### LR\n",
    " - errors should be independent\n",
    " - linear relationship\n",
    " - no measurement errors, etc\n",
    "\n",
    "### Bayes\n",
    "\n",
    " - P(H|D) = P(D|H) x P(H) / P(D)\n",
    " - H: hypothesis D: new data\n",
    " - P(H) prior P(H|D) posterior P(E|H) likelihood"
   ]
  }
 ],
 "metadata": {
  "kernelspec": {
   "display_name": "Python 3",
   "language": "python",
   "name": "python3"
  },
  "language_info": {
   "codemirror_mode": {
    "name": "ipython",
    "version": 3
   },
   "file_extension": ".py",
   "mimetype": "text/x-python",
   "name": "python",
   "nbconvert_exporter": "python",
   "pygments_lexer": "ipython3",
   "version": "3.5.2"
  }
 },
 "nbformat": 4,
 "nbformat_minor": 0
}
