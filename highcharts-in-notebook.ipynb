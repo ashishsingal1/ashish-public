{
 "cells": [
  {
   "cell_type": "markdown",
   "metadata": {},
   "source": [
    "# Using Highcharts in a Notebook\n",
    "Below is a snippet that allows you to use HC in a Jupyter Notebook."
   ]
  },
  {
   "cell_type": "code",
   "execution_count": 15,
   "metadata": {
    "ExecuteTime": {
     "end_time": "2017-01-04T13:03:43.415401",
     "start_time": "2017-01-04T13:03:43.402399"
    },
    "collapsed": false
   },
   "outputs": [
    {
     "data": {
      "text/html": [
       "<div>\n",
       "<table border=\"1\" class=\"dataframe\">\n",
       "  <thead>\n",
       "    <tr style=\"text-align: right;\">\n",
       "      <th></th>\n",
       "      <th>A</th>\n",
       "      <th>B</th>\n",
       "      <th>C</th>\n",
       "      <th>D</th>\n",
       "    </tr>\n",
       "  </thead>\n",
       "  <tbody>\n",
       "    <tr>\n",
       "      <th>0</th>\n",
       "      <td>-0.081099</td>\n",
       "      <td>1.178445</td>\n",
       "      <td>-0.748063</td>\n",
       "      <td>-0.099681</td>\n",
       "    </tr>\n",
       "    <tr>\n",
       "      <th>1</th>\n",
       "      <td>-0.247771</td>\n",
       "      <td>-0.493052</td>\n",
       "      <td>-1.134122</td>\n",
       "      <td>-0.021503</td>\n",
       "    </tr>\n",
       "    <tr>\n",
       "      <th>2</th>\n",
       "      <td>-0.399399</td>\n",
       "      <td>0.252833</td>\n",
       "      <td>0.325605</td>\n",
       "      <td>0.914243</td>\n",
       "    </tr>\n",
       "    <tr>\n",
       "      <th>3</th>\n",
       "      <td>0.772000</td>\n",
       "      <td>-0.254464</td>\n",
       "      <td>2.700875</td>\n",
       "      <td>-0.625482</td>\n",
       "    </tr>\n",
       "    <tr>\n",
       "      <th>4</th>\n",
       "      <td>-0.384878</td>\n",
       "      <td>-0.339242</td>\n",
       "      <td>-0.042553</td>\n",
       "      <td>1.380783</td>\n",
       "    </tr>\n",
       "    <tr>\n",
       "      <th>5</th>\n",
       "      <td>1.747982</td>\n",
       "      <td>1.254031</td>\n",
       "      <td>-0.178781</td>\n",
       "      <td>-0.014573</td>\n",
       "    </tr>\n",
       "  </tbody>\n",
       "</table>\n",
       "</div>"
      ],
      "text/plain": [
       "          A         B         C         D\n",
       "0 -0.081099  1.178445 -0.748063 -0.099681\n",
       "1 -0.247771 -0.493052 -1.134122 -0.021503\n",
       "2 -0.399399  0.252833  0.325605  0.914243\n",
       "3  0.772000 -0.254464  2.700875 -0.625482\n",
       "4 -0.384878 -0.339242 -0.042553  1.380783\n",
       "5  1.747982  1.254031 -0.178781 -0.014573"
      ]
     },
     "execution_count": 15,
     "metadata": {},
     "output_type": "execute_result"
    }
   ],
   "source": [
    "import pandas as pd\n",
    "import numpy as np\n",
    "df = pd.DataFrame(np.random.randn(6,4),columns=list('ABCD')) # fake data\n",
    "df"
   ]
  },
  {
   "cell_type": "code",
   "execution_count": 16,
   "metadata": {
    "ExecuteTime": {
     "end_time": "2017-01-04T13:03:44.296959",
     "start_time": "2017-01-04T13:03:44.294459"
    },
    "collapsed": true
   },
   "outputs": [],
   "source": [
    "from IPython.display import Javascript"
   ]
  },
  {
   "cell_type": "code",
   "execution_count": 17,
   "metadata": {
    "ExecuteTime": {
     "end_time": "2017-01-04T13:03:45.279226",
     "start_time": "2017-01-04T13:03:45.277225"
    },
    "collapsed": false
   },
   "outputs": [
    {
     "data": {
      "application/javascript": [
       "require.config({\n",
       "    paths: {\n",
       "        hc: '//code.highcharts.com/highcharts'\n",
       "    }\n",
       "});"
      ],
      "text/plain": [
       "<IPython.core.display.Javascript object>"
      ]
     },
     "metadata": {},
     "output_type": "display_data"
    }
   ],
   "source": [
    "%%javascript\n",
    "require.config({\n",
    "    paths: {\n",
    "        hc: '//code.highcharts.com/highcharts'\n",
    "    }\n",
    "});"
   ]
  },
  {
   "cell_type": "code",
   "execution_count": 22,
   "metadata": {
    "ExecuteTime": {
     "end_time": "2017-01-04T13:05:07.660176",
     "start_time": "2017-01-04T13:05:07.655175"
    },
    "collapsed": false
   },
   "outputs": [
    {
     "data": {
      "application/javascript": [
       "require(['hc'], function(hc) {\n",
       "    element.append('<div id=\"container\" style=\"min-width: 310px; height: 400px; margin: 0 auto\"></div>');\n",
       "    Highcharts.chart('container', {\n",
       "        title: {\n",
       "            text: 'Monthly Average Temperature',\n",
       "            x: -20 //center\n",
       "        },\n",
       "        subtitle: {\n",
       "            text: 'Source: WorldClimate.com',\n",
       "            x: -20\n",
       "        },\n",
       "        xAxis: {\n",
       "            categories: ['Jan', 'Feb', 'Mar', 'Apr', 'May', 'Jun',\n",
       "                'Jul', 'Aug', 'Sep', 'Oct', 'Nov', 'Dec']\n",
       "        },\n",
       "        yAxis: {\n",
       "            title: {\n",
       "                text: 'Temperature (°C)'\n",
       "            },\n",
       "            plotLines: [{\n",
       "                value: 0,\n",
       "                width: 1,\n",
       "                color: '#808080'\n",
       "            }]\n",
       "        },\n",
       "        tooltip: {\n",
       "            valueSuffix: '°C'\n",
       "        },\n",
       "        legend: {\n",
       "            layout: 'vertical',\n",
       "            align: 'right',\n",
       "            verticalAlign: 'middle',\n",
       "            borderWidth: 0\n",
       "        },\n",
       "        series: [{\n",
       "            name: 'Tokyo',\n",
       "            data: [7.0, 6.9, 9.5, 14.5, 18.2, 21.5, 25.2, 26.5, 23.3, 18.3, 13.9, 9.6]\n",
       "        }, {\n",
       "            name: 'New York',\n",
       "            data: [-0.2, 0.8, 5.7, 11.3, 17.0, 22.0, 24.8, 24.1, 20.1, 14.1, 8.6, 2.5]\n",
       "        }, {\n",
       "            name: 'Berlin',\n",
       "            data: [-0.9, 0.6, 3.5, 8.4, 13.5, 17.0, 18.6, 17.9, 14.3, 9.0, 3.9, 1.0]\n",
       "        }, {\n",
       "            name: 'London',\n",
       "            data: [3.9, 4.2, 5.7, 8.5, 11.9, 15.2, 17.0, 16.6, 14.2, 10.3, 6.6, 4.8]\n",
       "        }]\n",
       "    });\n",
       "});"
      ],
      "text/plain": [
       "<IPython.core.display.Javascript object>"
      ]
     },
     "metadata": {},
     "output_type": "display_data"
    }
   ],
   "source": [
    "%%javascript\n",
    "require(['hc'], function(hc) {\n",
    "    element.append('<div id=\"container\" style=\"min-width: 310px; height: 400px; margin: 0 auto\"></div>');\n",
    "    Highcharts.chart('container', {\n",
    "        title: {\n",
    "            text: 'Monthly Average Temperature',\n",
    "            x: -20 //center\n",
    "        },\n",
    "        subtitle: {\n",
    "            text: 'Source: WorldClimate.com',\n",
    "            x: -20\n",
    "        },\n",
    "        xAxis: {\n",
    "            categories: ['Jan', 'Feb', 'Mar', 'Apr', 'May', 'Jun',\n",
    "                'Jul', 'Aug', 'Sep', 'Oct', 'Nov', 'Dec']\n",
    "        },\n",
    "        yAxis: {\n",
    "            title: {\n",
    "                text: 'Temperature (°C)'\n",
    "            },\n",
    "            plotLines: [{\n",
    "                value: 0,\n",
    "                width: 1,\n",
    "                color: '#808080'\n",
    "            }]\n",
    "        },\n",
    "        tooltip: {\n",
    "            valueSuffix: '°C'\n",
    "        },\n",
    "        legend: {\n",
    "            layout: 'vertical',\n",
    "            align: 'right',\n",
    "            verticalAlign: 'middle',\n",
    "            borderWidth: 0\n",
    "        },\n",
    "        series: [{\n",
    "            name: 'Tokyo',\n",
    "            data: [7.0, 6.9, 9.5, 14.5, 18.2, 21.5, 25.2, 26.5, 23.3, 18.3, 13.9, 9.6]\n",
    "        }, {\n",
    "            name: 'New York',\n",
    "            data: [-0.2, 0.8, 5.7, 11.3, 17.0, 22.0, 24.8, 24.1, 20.1, 14.1, 8.6, 2.5]\n",
    "        }, {\n",
    "            name: 'Berlin',\n",
    "            data: [-0.9, 0.6, 3.5, 8.4, 13.5, 17.0, 18.6, 17.9, 14.3, 9.0, 3.9, 1.0]\n",
    "        }, {\n",
    "            name: 'London',\n",
    "            data: [3.9, 4.2, 5.7, 8.5, 11.9, 15.2, 17.0, 16.6, 14.2, 10.3, 6.6, 4.8]\n",
    "        }]\n",
    "    });\n",
    "});"
   ]
  },
  {
   "cell_type": "code",
   "execution_count": null,
   "metadata": {
    "collapsed": true
   },
   "outputs": [],
   "source": []
  }
 ],
 "metadata": {
  "kernelspec": {
   "display_name": "Python 3",
   "language": "python",
   "name": "python3"
  },
  "language_info": {
   "codemirror_mode": {
    "name": "ipython",
    "version": 3
   },
   "file_extension": ".py",
   "mimetype": "text/x-python",
   "name": "python",
   "nbconvert_exporter": "python",
   "pygments_lexer": "ipython3",
   "version": "3.5.2"
  }
 },
 "nbformat": 4,
 "nbformat_minor": 0
}
