{
 "cells": [
  {
   "cell_type": "markdown",
   "metadata": {},
   "source": [
    "# Pandas-Highcharts\n",
    "None of the current major visualization platforms serve me well.\n",
    "\n",
    " - Python based (seaborn, mpl): Ugly and not interactive.\n",
    " - JS based (d3, plotly): Either ugly or not easy.\n",
    "\n",
    "Highcharts is my favorite package because it looks attractive out of the box (though I've recently discovered dimple and I like what I see) and is pretty simple and powerful. I also recently discovered python-highcharts, which provides a nice interface to creating Highcharts in pandas.\n",
    "\n",
    "Below is a quick example of converting a pandas DataFrame into a Highchart using the function df_to_hc. Hope to show more complex examples soon."
   ]
  },
  {
   "cell_type": "code",
   "execution_count": 3,
   "metadata": {
    "ExecuteTime": {
     "end_time": "2017-01-05T10:18:07.927931",
     "start_time": "2017-01-05T10:18:07.925931"
    },
    "collapsed": false
   },
   "outputs": [],
   "source": [
    "import pandas as pd\n",
    "import pdhc as ph"
   ]
  },
  {
   "cell_type": "code",
   "execution_count": 4,
   "metadata": {
    "ExecuteTime": {
     "end_time": "2017-01-05T10:18:08.354956",
     "start_time": "2017-01-05T10:18:08.349955"
    },
    "collapsed": false
   },
   "outputs": [],
   "source": [
    "data = [['Year 1800', 107, 31, 635, 203, 2],\n",
    "        ['Year 1900', 133, 156, 947, 408, 6],\n",
    "        ['Year 2008', 973, 914, 4054, 732, 34],\n",
    "        ['Year 2012', 1052, 954, 4250, 740, 38]]\n",
    "cols = ['Year', 'Africa', 'America', 'Asia', 'Europe', 'Oceania']"
   ]
  },
  {
   "cell_type": "code",
   "execution_count": 5,
   "metadata": {
    "ExecuteTime": {
     "end_time": "2017-01-05T10:18:09.576991",
     "start_time": "2017-01-05T10:18:09.544791"
    },
    "collapsed": false
   },
   "outputs": [
    {
     "data": {
      "text/html": [
       "<div>\n",
       "<table border=\"1\" class=\"dataframe\">\n",
       "  <thead>\n",
       "    <tr style=\"text-align: right;\">\n",
       "      <th></th>\n",
       "      <th>Africa</th>\n",
       "      <th>America</th>\n",
       "      <th>Asia</th>\n",
       "      <th>Europe</th>\n",
       "      <th>Oceania</th>\n",
       "    </tr>\n",
       "    <tr>\n",
       "      <th>Year</th>\n",
       "      <th></th>\n",
       "      <th></th>\n",
       "      <th></th>\n",
       "      <th></th>\n",
       "      <th></th>\n",
       "    </tr>\n",
       "  </thead>\n",
       "  <tbody>\n",
       "    <tr>\n",
       "      <th>Year 1800</th>\n",
       "      <td>107</td>\n",
       "      <td>31</td>\n",
       "      <td>635</td>\n",
       "      <td>203</td>\n",
       "      <td>2</td>\n",
       "    </tr>\n",
       "    <tr>\n",
       "      <th>Year 1900</th>\n",
       "      <td>133</td>\n",
       "      <td>156</td>\n",
       "      <td>947</td>\n",
       "      <td>408</td>\n",
       "      <td>6</td>\n",
       "    </tr>\n",
       "    <tr>\n",
       "      <th>Year 2008</th>\n",
       "      <td>973</td>\n",
       "      <td>914</td>\n",
       "      <td>4054</td>\n",
       "      <td>732</td>\n",
       "      <td>34</td>\n",
       "    </tr>\n",
       "    <tr>\n",
       "      <th>Year 2012</th>\n",
       "      <td>1052</td>\n",
       "      <td>954</td>\n",
       "      <td>4250</td>\n",
       "      <td>740</td>\n",
       "      <td>38</td>\n",
       "    </tr>\n",
       "  </tbody>\n",
       "</table>\n",
       "</div>"
      ],
      "text/plain": [
       "           Africa  America  Asia  Europe  Oceania\n",
       "Year                                             \n",
       "Year 1800     107       31   635     203        2\n",
       "Year 1900     133      156   947     408        6\n",
       "Year 2008     973      914  4054     732       34\n",
       "Year 2012    1052      954  4250     740       38"
      ]
     },
     "execution_count": 5,
     "metadata": {},
     "output_type": "execute_result"
    }
   ],
   "source": [
    "df = pd.DataFrame(data,columns=cols) # fake data\n",
    "df.set_index('Year', inplace=True)\n",
    "df"
   ]
  },
  {
   "cell_type": "code",
   "execution_count": 7,
   "metadata": {
    "ExecuteTime": {
     "end_time": "2017-01-05T10:18:17.592423",
     "start_time": "2017-01-05T10:18:17.574422"
    },
    "collapsed": false
   },
   "outputs": [
    {
     "data": {
      "text/html": [
       "<iframe style=\"border:0;outline:none;overflow:hidden\" srcdoc=\"&lt;!DOCTYPE html&gt; &lt;html lang=&quot;en&quot;&gt; &lt;head&gt; &lt;meta charset=&quot;utf-8&quot; /&gt; &lt;link href=&quot;https://www.highcharts.com/highslide/highslide.css&quot; rel=&quot;stylesheet&quot; /&gt; &lt;script type=&quot;text/javascript&quot; src=&quot;https://ajax.googleapis.com/ajax/libs/jquery/1.9.1/jquery.min.js&quot;&gt;&lt;/script&gt; &lt;script type=&quot;text/javascript&quot; src=&quot;https://code.highcharts.com/highcharts.js&quot;&gt;&lt;/script&gt; &lt;script type=&quot;text/javascript&quot; src=&quot;https://code.highcharts.com/highcharts-more.js&quot;&gt;&lt;/script&gt; &lt;script type=&quot;text/javascript&quot; src=&quot;https://code.highcharts.com/modules/heatmap.js&quot;&gt;&lt;/script&gt; &lt;script type=&quot;text/javascript&quot; src=&quot;https://code.highcharts.com/modules/exporting.js&quot;&gt;&lt;/script&gt; &lt;/head&gt; &lt;body style=&quot;margin:0;padding:0&quot;&gt; &lt;div id=&quot;container&quot; style=&quot;width:750px;height:600px;&quot;&gt;Loading....&lt;/div&gt; &lt;script&gt; $(function(){ Highcharts.setOptions({&quot;lang&quot;: {}, &quot;global&quot;: {}}); var option = {&quot;drilldown&quot;: {}, &quot;xAxis&quot;: {&quot;categories&quot;: [&quot;Africa&quot;, &quot;America&quot;, &quot;Asia&quot;, &quot;Europe&quot;, &quot;Oceania&quot;]}, &quot;credits&quot;: {&quot;enabled&quot;: false}, &quot;loading&quot;: {}, &quot;title&quot;: {&quot;text&quot;: &quot;A New Highchart&quot;}, &quot;series&quot;: {}, &quot;tooltip&quot;: {}, &quot;chart&quot;: {&quot;width&quot;: 750, &quot;renderTo&quot;: &quot;container&quot;, &quot;height&quot;: 600}, &quot;plotOptions&quot;: {}, &quot;colors&quot;: {}, &quot;subtitle&quot;: {}, &quot;labels&quot;: {}, &quot;pane&quot;: {}, &quot;navigation&quot;: {}, &quot;yAxis&quot;: {}, &quot;legend&quot;: {}, &quot;exporting&quot;: {}}; var data = [{&quot;name&quot;: &quot;Year 1800&quot;, &quot;type&quot;: &quot;bar&quot;, &quot;data&quot;: [107, 31, 635, 203, 2]}, {&quot;data&quot;: [133, 156, 947, 408, 6], &quot;name&quot;: &quot;Year 1900&quot;, &quot;type&quot;: &quot;bar&quot;}, {&quot;data&quot;: [973, 914, 4054, 732, 34], &quot;name&quot;: &quot;Year 2008&quot;, &quot;type&quot;: &quot;bar&quot;}, {&quot;data&quot;: [1052, 954, 4250, 740, 38], &quot;name&quot;: &quot;Year 2012&quot;, &quot;type&quot;: &quot;bar&quot;}]; option.series = data; var chart = new Highcharts.Chart(option); }); &lt;/script&gt; &lt;/body&gt; &lt;/html&gt;\" height=600 width=750></iframe>"
      ],
      "text/plain": [
       "<highcharts.highcharts.highcharts.Highchart at 0x8876ac8>"
      ]
     },
     "execution_count": 7,
     "metadata": {},
     "output_type": "execute_result"
    }
   ],
   "source": [
    "ph.df_to_hc(df)"
   ]
  },
  {
   "cell_type": "code",
   "execution_count": null,
   "metadata": {
    "collapsed": true
   },
   "outputs": [],
   "source": []
  }
 ],
 "metadata": {
  "kernelspec": {
   "display_name": "Python 3",
   "language": "python",
   "name": "python3"
  },
  "language_info": {
   "codemirror_mode": {
    "name": "ipython",
    "version": 3
   },
   "file_extension": ".py",
   "mimetype": "text/x-python",
   "name": "python",
   "nbconvert_exporter": "python",
   "pygments_lexer": "ipython3",
   "version": "3.5.2"
  }
 },
 "nbformat": 4,
 "nbformat_minor": 0
}
