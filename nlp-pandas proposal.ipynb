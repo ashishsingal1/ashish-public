{
 "cells": [
  {
   "cell_type": "markdown",
   "metadata": {},
   "source": [
    "# nlp-pandas\n",
    "Below is a rough, under construction proposal on a package that would take natural language and query a pandas DataFrame after structuring the command.\n",
    "\n",
    "Thoughts on a data analytics add on that can answer questions on custom datasets using NLP (or even just structuring without intelligence at first.\n",
    "\n",
    "The idea is to complement / replace data viz platforms like Tableau -- instead of users having to generate the tables they want, they should be able to ask free form questions.\n",
    "\n",
    "The original idea was nlp-sql, but I think nlp-pandas may work better to start out with. pandas has a lot of built in functionality that may come in handy.\n",
    "\n",
    "## Sample of how it could work\n",
    "\n",
    " - users_table = ['id', 'f_name', 'l_name', 'city', 'state']\n",
    " - orders_table = ['id', 'user_id', 'order_date', 'payment_method']\n",
    " - items_table = ['id', 'product_id', 'order_id', 'count']\n",
    " - products_table = ['id', 'name', 'price']\n",
    "\n",
    "### Questions:\n",
    "\n",
    " - Number of orders placed in the last six months\n",
    " - Bar chart of orders placed in the last six months by month\n",
    " - Number of orders placed in the last six months by state\n",
    " - Top 10 orders by value\n",
    " - Top 10 states by revenue\n",
    " - Top 10 products by revenue this month\n",
    " - Top 10 products by revenue by month for the last six months\n",
    " \n",
    "We would have to understand how we can translate this to SQL. Perhaps we can use pandas first for now. We'd have to calculate intermediate fields. We'd also have to understand table linkages. Perhaps to start, we can denormalize tables and just run the queries on single tables. Later, we can start to break these out.\n",
    "\n",
    "Changing name to `nlp-pandas`.\n",
    "\n"
   ]
  },
  {
   "cell_type": "markdown",
   "metadata": {
    "ExecuteTime": {
     "end_time": "2017-01-12T10:52:31.105851",
     "start_time": "2017-01-12T10:52:31.104851"
    }
   },
   "source": [
    "### Proposal"
   ]
  },
  {
   "cell_type": "markdown",
   "metadata": {},
   "source": [
    "```python\n",
    "import nlp-pandas as nd\n",
    "import pandas as pd\n",
    "\n",
    "df_users, df_orders, df_items, df_products\n",
    "\n",
    "ds = nd.Dataset(df_users, df_orders, df_items, df_products) # set the dataset\n",
    "df_answer = ds.ask('Top 10 products by revenue by month for the last six months')\n",
    "```\n",
    "\n",
    "df_answer is the result of the last line. "
   ]
  },
  {
   "cell_type": "markdown",
   "metadata": {},
   "source": [
    "### How do we get it working?\n",
    "\n",
    "The first way is to hard code stuff in. This is how Alexa works. For example, if we see 'top' or 'largest' or 'biggest' followed by a number, we know to sort desc and limit the number. If we see 'by' followed by this, we know what column to sort using.\n",
    "\n",
    "It is easiest to first work on a single table. Later, it might be possible to join tables intelligently."
   ]
  },
  {
   "cell_type": "markdown",
   "metadata": {},
   "source": [
    "## v1"
   ]
  },
  {
   "cell_type": "code",
   "execution_count": 4,
   "metadata": {
    "ExecuteTime": {
     "end_time": "2017-01-12T13:01:07.606107",
     "start_time": "2017-01-12T13:01:07.487095"
    },
    "collapsed": true
   },
   "outputs": [],
   "source": [
    "import pandas as pd\n",
    "df = pd.read_csv('https://raw.githubusercontent.com/mwaskom/seaborn-data/master/iris.csv')"
   ]
  },
  {
   "cell_type": "code",
   "execution_count": 24,
   "metadata": {
    "ExecuteTime": {
     "end_time": "2017-01-12T14:04:19.857505",
     "start_time": "2017-01-12T14:04:19.845504"
    },
    "collapsed": false
   },
   "outputs": [
    {
     "data": {
      "text/html": [
       "<div>\n",
       "<table border=\"1\" class=\"dataframe\">\n",
       "  <thead>\n",
       "    <tr style=\"text-align: right;\">\n",
       "      <th></th>\n",
       "      <th>sepal_length</th>\n",
       "      <th>sepal_width</th>\n",
       "      <th>petal_length</th>\n",
       "      <th>petal_width</th>\n",
       "      <th>species</th>\n",
       "    </tr>\n",
       "  </thead>\n",
       "  <tbody>\n",
       "    <tr>\n",
       "      <th>0</th>\n",
       "      <td>5.1</td>\n",
       "      <td>3.5</td>\n",
       "      <td>1.4</td>\n",
       "      <td>0.2</td>\n",
       "      <td>setosa</td>\n",
       "    </tr>\n",
       "    <tr>\n",
       "      <th>1</th>\n",
       "      <td>4.9</td>\n",
       "      <td>3.0</td>\n",
       "      <td>1.4</td>\n",
       "      <td>0.2</td>\n",
       "      <td>setosa</td>\n",
       "    </tr>\n",
       "    <tr>\n",
       "      <th>2</th>\n",
       "      <td>4.7</td>\n",
       "      <td>3.2</td>\n",
       "      <td>1.3</td>\n",
       "      <td>0.2</td>\n",
       "      <td>setosa</td>\n",
       "    </tr>\n",
       "    <tr>\n",
       "      <th>3</th>\n",
       "      <td>4.6</td>\n",
       "      <td>3.1</td>\n",
       "      <td>1.5</td>\n",
       "      <td>0.2</td>\n",
       "      <td>setosa</td>\n",
       "    </tr>\n",
       "    <tr>\n",
       "      <th>4</th>\n",
       "      <td>5.0</td>\n",
       "      <td>3.6</td>\n",
       "      <td>1.4</td>\n",
       "      <td>0.2</td>\n",
       "      <td>setosa</td>\n",
       "    </tr>\n",
       "  </tbody>\n",
       "</table>\n",
       "</div>"
      ],
      "text/plain": [
       "   sepal_length  sepal_width  petal_length  petal_width species\n",
       "0           5.1          3.5           1.4          0.2  setosa\n",
       "1           4.9          3.0           1.4          0.2  setosa\n",
       "2           4.7          3.2           1.3          0.2  setosa\n",
       "3           4.6          3.1           1.5          0.2  setosa\n",
       "4           5.0          3.6           1.4          0.2  setosa"
      ]
     },
     "execution_count": 24,
     "metadata": {},
     "output_type": "execute_result"
    }
   ],
   "source": [
    "df.head()"
   ]
  },
  {
   "cell_type": "code",
   "execution_count": 20,
   "metadata": {
    "ExecuteTime": {
     "end_time": "2017-01-12T13:15:46.385976",
     "start_time": "2017-01-12T13:15:46.376975"
    },
    "collapsed": true
   },
   "outputs": [],
   "source": [
    "def ask(df, question):\n",
    "    words = question.split()\n",
    "    q ={}\n",
    "    for w in words:\n",
    "        if w in ['top', 'largest', 'first']: q['ascending'] = False\n",
    "        if w in ['bottom', 'smallest', 'last']: q['direction'] = True\n",
    "        if (w.isdigit()): q['limit'] = int(w)\n",
    "        if w in df.columns: q['column'] = w\n",
    "    return df.sort_values(q['column'], ascending=q['ascending'])[:limit]"
   ]
  },
  {
   "cell_type": "code",
   "execution_count": 21,
   "metadata": {
    "ExecuteTime": {
     "end_time": "2017-01-12T13:15:47.871125",
     "start_time": "2017-01-12T13:15:47.869125"
    },
    "collapsed": true
   },
   "outputs": [],
   "source": [
    "question = 'top 10 sepal_length'"
   ]
  },
  {
   "cell_type": "code",
   "execution_count": 22,
   "metadata": {
    "ExecuteTime": {
     "end_time": "2017-01-12T13:15:48.251163",
     "start_time": "2017-01-12T13:15:48.237161"
    },
    "collapsed": false
   },
   "outputs": [
    {
     "data": {
      "text/html": [
       "<div>\n",
       "<table border=\"1\" class=\"dataframe\">\n",
       "  <thead>\n",
       "    <tr style=\"text-align: right;\">\n",
       "      <th></th>\n",
       "      <th>sepal_length</th>\n",
       "      <th>sepal_width</th>\n",
       "      <th>petal_length</th>\n",
       "      <th>petal_width</th>\n",
       "      <th>species</th>\n",
       "    </tr>\n",
       "  </thead>\n",
       "  <tbody>\n",
       "    <tr>\n",
       "      <th>131</th>\n",
       "      <td>7.9</td>\n",
       "      <td>3.8</td>\n",
       "      <td>6.4</td>\n",
       "      <td>2.0</td>\n",
       "      <td>virginica</td>\n",
       "    </tr>\n",
       "    <tr>\n",
       "      <th>135</th>\n",
       "      <td>7.7</td>\n",
       "      <td>3.0</td>\n",
       "      <td>6.1</td>\n",
       "      <td>2.3</td>\n",
       "      <td>virginica</td>\n",
       "    </tr>\n",
       "    <tr>\n",
       "      <th>122</th>\n",
       "      <td>7.7</td>\n",
       "      <td>2.8</td>\n",
       "      <td>6.7</td>\n",
       "      <td>2.0</td>\n",
       "      <td>virginica</td>\n",
       "    </tr>\n",
       "    <tr>\n",
       "      <th>117</th>\n",
       "      <td>7.7</td>\n",
       "      <td>3.8</td>\n",
       "      <td>6.7</td>\n",
       "      <td>2.2</td>\n",
       "      <td>virginica</td>\n",
       "    </tr>\n",
       "    <tr>\n",
       "      <th>118</th>\n",
       "      <td>7.7</td>\n",
       "      <td>2.6</td>\n",
       "      <td>6.9</td>\n",
       "      <td>2.3</td>\n",
       "      <td>virginica</td>\n",
       "    </tr>\n",
       "    <tr>\n",
       "      <th>105</th>\n",
       "      <td>7.6</td>\n",
       "      <td>3.0</td>\n",
       "      <td>6.6</td>\n",
       "      <td>2.1</td>\n",
       "      <td>virginica</td>\n",
       "    </tr>\n",
       "    <tr>\n",
       "      <th>130</th>\n",
       "      <td>7.4</td>\n",
       "      <td>2.8</td>\n",
       "      <td>6.1</td>\n",
       "      <td>1.9</td>\n",
       "      <td>virginica</td>\n",
       "    </tr>\n",
       "    <tr>\n",
       "      <th>107</th>\n",
       "      <td>7.3</td>\n",
       "      <td>2.9</td>\n",
       "      <td>6.3</td>\n",
       "      <td>1.8</td>\n",
       "      <td>virginica</td>\n",
       "    </tr>\n",
       "    <tr>\n",
       "      <th>125</th>\n",
       "      <td>7.2</td>\n",
       "      <td>3.2</td>\n",
       "      <td>6.0</td>\n",
       "      <td>1.8</td>\n",
       "      <td>virginica</td>\n",
       "    </tr>\n",
       "    <tr>\n",
       "      <th>109</th>\n",
       "      <td>7.2</td>\n",
       "      <td>3.6</td>\n",
       "      <td>6.1</td>\n",
       "      <td>2.5</td>\n",
       "      <td>virginica</td>\n",
       "    </tr>\n",
       "  </tbody>\n",
       "</table>\n",
       "</div>"
      ],
      "text/plain": [
       "     sepal_length  sepal_width  petal_length  petal_width    species\n",
       "131           7.9          3.8           6.4          2.0  virginica\n",
       "135           7.7          3.0           6.1          2.3  virginica\n",
       "122           7.7          2.8           6.7          2.0  virginica\n",
       "117           7.7          3.8           6.7          2.2  virginica\n",
       "118           7.7          2.6           6.9          2.3  virginica\n",
       "105           7.6          3.0           6.6          2.1  virginica\n",
       "130           7.4          2.8           6.1          1.9  virginica\n",
       "107           7.3          2.9           6.3          1.8  virginica\n",
       "125           7.2          3.2           6.0          1.8  virginica\n",
       "109           7.2          3.6           6.1          2.5  virginica"
      ]
     },
     "execution_count": 22,
     "metadata": {},
     "output_type": "execute_result"
    }
   ],
   "source": [
    "ask(df, 'top 10 sepal_length')"
   ]
  },
  {
   "cell_type": "code",
   "execution_count": null,
   "metadata": {
    "collapsed": true
   },
   "outputs": [],
   "source": []
  }
 ],
 "metadata": {
  "kernelspec": {
   "display_name": "Python 3",
   "language": "python",
   "name": "python3"
  },
  "language_info": {
   "codemirror_mode": {
    "name": "ipython",
    "version": 3
   },
   "file_extension": ".py",
   "mimetype": "text/x-python",
   "name": "python",
   "nbconvert_exporter": "python",
   "pygments_lexer": "ipython3",
   "version": "3.5.2"
  }
 },
 "nbformat": 4,
 "nbformat_minor": 0
}
